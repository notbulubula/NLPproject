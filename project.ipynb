{
 "cells": [
  {
   "cell_type": "markdown",
   "metadata": {},
   "source": [
    "# Storyteller"
   ]
  },
  {
   "cell_type": "code",
   "execution_count": 1,
   "metadata": {},
   "outputs": [],
   "source": [
    "import pandas as pd\n",
    "from transformers import AutoModelForCausalLM, AutoModelForTokenClassification, AutoTokenizer, pipeline\n"
   ]
  },
  {
   "cell_type": "code",
   "execution_count": 4,
   "metadata": {},
   "outputs": [],
   "source": [
    "from evaluation.evaluate import evaluate_text\n",
    "from evaluation.generate_prompt import generate_prompt\n",
    "from evaluation.generate_chapter import generate_chapter"
   ]
  },
  {
   "cell_type": "markdown",
   "metadata": {},
   "source": [
    "## Models and tokenizers"
   ]
  },
  {
   "cell_type": "code",
   "execution_count": 4,
   "metadata": {},
   "outputs": [],
   "source": [
    "# Generation pipeline\n",
    "phi_model = AutoModelForCausalLM.from_pretrained(\"microsoft/Phi-3-mini-128k-instruct\",\n",
    "    # device_map=\"cuda\",\n",
    "    torch_dtype=\"auto\",\n",
    "    trust_remote_code=True,\n",
    ")\n",
    "phi_tokenizer = AutoTokenizer.from_pretrained(\"microsoft/Phi-3-mini-128k-instruct\")\n",
    "\n",
    "phi_pipe = pipeline(\"fill-mask\", model=phi_model, tokenizer=phi_tokenizer)\n",
    "\n",
    "\n",
    "# Evaluation pipeline\n",
    "NER_model = AutoModelForTokenClassification.from_pretrained(\"dbmdz/bert-large-cased-finetuned-conll03-english\")\n",
    "NER_tokenizer = AutoTokenizer.from_pretrained(\"bert-base-cased\")\n",
    "NER_pipe = pipeline('ner', model=NER_model, tokenizer=NER_tokenizer)"
   ]
  },
  {
   "cell_type": "markdown",
   "metadata": {},
   "source": [
    "## Data"
   ]
  },
  {
   "cell_type": "code",
   "execution_count": 2,
   "metadata": {},
   "outputs": [
    {
     "data": {
      "text/html": [
       "<div>\n",
       "<style scoped>\n",
       "    .dataframe tbody tr th:only-of-type {\n",
       "        vertical-align: middle;\n",
       "    }\n",
       "\n",
       "    .dataframe tbody tr th {\n",
       "        vertical-align: top;\n",
       "    }\n",
       "\n",
       "    .dataframe thead th {\n",
       "        text-align: right;\n",
       "    }\n",
       "</style>\n",
       "<table border=\"1\" class=\"dataframe\">\n",
       "  <thead>\n",
       "    <tr style=\"text-align: right;\">\n",
       "      <th></th>\n",
       "      <th>text</th>\n",
       "    </tr>\n",
       "  </thead>\n",
       "  <tbody>\n",
       "    <tr>\n",
       "      <th>0</th>\n",
       "      <td>I am in my 30 's , married and have recently ,...</td>\n",
       "    </tr>\n",
       "    <tr>\n",
       "      <th>1</th>\n",
       "      <td>It strikes me that I never posted the link to ...</td>\n",
       "    </tr>\n",
       "    <tr>\n",
       "      <th>2</th>\n",
       "      <td>Hye was waiting for her usual bus at the usual...</td>\n",
       "    </tr>\n",
       "    <tr>\n",
       "      <th>3</th>\n",
       "      <td>\" Remember , go straight to Grandma 's house ,...</td>\n",
       "    </tr>\n",
       "    <tr>\n",
       "      <th>4</th>\n",
       "      <td>Leave a reply Tisha Porter didn 't think she w...</td>\n",
       "    </tr>\n",
       "  </tbody>\n",
       "</table>\n",
       "</div>"
      ],
      "text/plain": [
       "                                                text\n",
       "0  I am in my 30 's , married and have recently ,...\n",
       "1  It strikes me that I never posted the link to ...\n",
       "2  Hye was waiting for her usual bus at the usual...\n",
       "3  \" Remember , go straight to Grandma 's house ,...\n",
       "4  Leave a reply Tisha Porter didn 't think she w..."
      ]
     },
     "execution_count": 2,
     "metadata": {},
     "output_type": "execute_result"
    }
   ],
   "source": [
    "# Load data from json\n",
    "data = pd.read_json(\"data/data.json\")\n",
    "\n",
    "# Drop columns\n",
    "data = data.drop(columns=[\"row_idx\", \"truncated_cells\"])\n",
    "\n",
    "# Rename columns\n",
    "data = data.rename(columns={\"row\": \"text\"})\n",
    "\n",
    "# Get only values from dicts in text column\n",
    "data[\"text\"] = data[\"text\"].apply(lambda x: x[\"text\"])\n",
    "\n",
    "data.head()"
   ]
  },
  {
   "cell_type": "code",
   "execution_count": 5,
   "metadata": {},
   "outputs": [
    {
     "data": {
      "text/html": [
       "<div>\n",
       "<style scoped>\n",
       "    .dataframe tbody tr th:only-of-type {\n",
       "        vertical-align: middle;\n",
       "    }\n",
       "\n",
       "    .dataframe tbody tr th {\n",
       "        vertical-align: top;\n",
       "    }\n",
       "\n",
       "    .dataframe thead th {\n",
       "        text-align: right;\n",
       "    }\n",
       "</style>\n",
       "<table border=\"1\" class=\"dataframe\">\n",
       "  <thead>\n",
       "    <tr style=\"text-align: right;\">\n",
       "      <th></th>\n",
       "      <th>text</th>\n",
       "      <th>prompt</th>\n",
       "    </tr>\n",
       "  </thead>\n",
       "  <tbody>\n",
       "    <tr>\n",
       "      <th>0</th>\n",
       "      <td>I am in my 30 's , married and have recently ,...</td>\n",
       "      <td>[{'role': 'system', 'content': 'You are a skil...</td>\n",
       "    </tr>\n",
       "    <tr>\n",
       "      <th>1</th>\n",
       "      <td>It strikes me that I never posted the link to ...</td>\n",
       "      <td>[{'role': 'system', 'content': 'You are a skil...</td>\n",
       "    </tr>\n",
       "    <tr>\n",
       "      <th>2</th>\n",
       "      <td>Hye was waiting for her usual bus at the usual...</td>\n",
       "      <td>[{'role': 'system', 'content': 'You are a skil...</td>\n",
       "    </tr>\n",
       "    <tr>\n",
       "      <th>3</th>\n",
       "      <td>\" Remember , go straight to Grandma 's house ,...</td>\n",
       "      <td>[{'role': 'system', 'content': 'You are a skil...</td>\n",
       "    </tr>\n",
       "    <tr>\n",
       "      <th>4</th>\n",
       "      <td>Leave a reply Tisha Porter didn 't think she w...</td>\n",
       "      <td>[{'role': 'system', 'content': 'You are a skil...</td>\n",
       "    </tr>\n",
       "  </tbody>\n",
       "</table>\n",
       "</div>"
      ],
      "text/plain": [
       "                                                text  \\\n",
       "0  I am in my 30 's , married and have recently ,...   \n",
       "1  It strikes me that I never posted the link to ...   \n",
       "2  Hye was waiting for her usual bus at the usual...   \n",
       "3  \" Remember , go straight to Grandma 's house ,...   \n",
       "4  Leave a reply Tisha Porter didn 't think she w...   \n",
       "\n",
       "                                              prompt  \n",
       "0  [{'role': 'system', 'content': 'You are a skil...  \n",
       "1  [{'role': 'system', 'content': 'You are a skil...  \n",
       "2  [{'role': 'system', 'content': 'You are a skil...  \n",
       "3  [{'role': 'system', 'content': 'You are a skil...  \n",
       "4  [{'role': 'system', 'content': 'You are a skil...  "
      ]
     },
     "execution_count": 5,
     "metadata": {},
     "output_type": "execute_result"
    }
   ],
   "source": [
    "# Add prompt column\n",
    "data[\"prompt\"] = \"\"\n",
    "\n",
    "prompt_max_len = 1000\n",
    "\n",
    "for i, row in data.iterrows():\n",
    "    prompt = generate_prompt(row[\"text\"], prompt_max_len)\n",
    "    data.at[i, \"prompt\"] = prompt\n",
    "\n",
    "data.head()\n"
   ]
  },
  {
   "cell_type": "markdown",
   "metadata": {},
   "source": [
    "## Generation"
   ]
  },
  {
   "cell_type": "code",
   "execution_count": 7,
   "metadata": {},
   "outputs": [],
   "source": [
    "sample_row = data.iloc[7]\n",
    "text = sample_row[\"text\"]\n",
    "prompt = sample_row[\"prompt\"]\n"
   ]
  },
  {
   "cell_type": "code",
   "execution_count": null,
   "metadata": {},
   "outputs": [],
   "source": [
    "# prompt"
   ]
  },
  {
   "cell_type": "code",
   "execution_count": null,
   "metadata": {},
   "outputs": [],
   "source": [
    "chapter = generate_chapter(prompt, 500, phi_pipe)"
   ]
  },
  {
   "cell_type": "code",
   "execution_count": null,
   "metadata": {},
   "outputs": [],
   "source": [
    "# chapter"
   ]
  },
  {
   "cell_type": "markdown",
   "metadata": {},
   "source": [
    "## Evaluation"
   ]
  },
  {
   "cell_type": "code",
   "execution_count": 8,
   "metadata": {},
   "outputs": [],
   "source": [
    "raw_text = generate_prompt(text, prompt_max_len, RAW_TEXT=True)\n",
    "# raw_text"
   ]
  },
  {
   "cell_type": "code",
   "execution_count": 9,
   "metadata": {},
   "outputs": [],
   "source": [
    "evaluation_dict, text_NE, chapter_NE = evaluate_text(raw_text, chapter, NER_pipe)"
   ]
  },
  {
   "cell_type": "code",
   "execution_count": null,
   "metadata": {},
   "outputs": [],
   "source": [
    "evaluation_dict"
   ]
  },
  {
   "cell_type": "code",
   "execution_count": null,
   "metadata": {},
   "outputs": [],
   "source": [
    "text_NE"
   ]
  },
  {
   "cell_type": "code",
   "execution_count": null,
   "metadata": {},
   "outputs": [],
   "source": [
    "chapter_NE"
   ]
  }
 ],
 "metadata": {
  "kernelspec": {
   "display_name": "Python 3",
   "language": "python",
   "name": "python3"
  },
  "language_info": {
   "codemirror_mode": {
    "name": "ipython",
    "version": 3
   },
   "file_extension": ".py",
   "mimetype": "text/x-python",
   "name": "python",
   "nbconvert_exporter": "python",
   "pygments_lexer": "ipython3",
   "version": "3.9.7"
  }
 },
 "nbformat": 4,
 "nbformat_minor": 2
}
