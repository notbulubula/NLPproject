{
 "cells": [
  {
   "cell_type": "markdown",
   "metadata": {},
   "source": [
    "# Storyteller"
   ]
  },
  {
   "cell_type": "code",
   "execution_count": 3,
   "metadata": {},
   "outputs": [],
   "source": [
    "import pandas as pd\n",
    "import re\n",
    "import torch\n",
    "from transformers import AutoModelForCausalLM, AutoModelForTokenClassification, AutoTokenizer, pipeline\n"
   ]
  },
  {
   "cell_type": "code",
   "execution_count": 6,
   "metadata": {},
   "outputs": [],
   "source": [
    "from evaluate.evaluate import evaluate_text\n",
    "from evaluate.generate_prompt import generate_prompt\n",
    "from evaluate.generate_chapter import generate_chapter"
   ]
  },
  {
   "cell_type": "markdown",
   "metadata": {},
   "source": [
    "## Models and tokenizers"
   ]
  },
  {
   "cell_type": "code",
   "execution_count": 4,
   "metadata": {},
   "outputs": [],
   "source": [
    "# Generation pipeline\n",
    "\n",
    "phi_model = AutoModelForCausalLM.from_pretrained(\"microsoft/Phi-3-mini-128k-instruct\",\n",
    "    # device_map=\"cuda\",\n",
    "    torch_dtype=\"auto\",\n",
    "    trust_remote_code=True,\n",
    ")\n",
    "phi_tokenizer = AutoTokenizer.from_pretrained(\"microsoft/Phi-3-mini-128k-instruct\")\n",
    "\n",
    "phi_pipe = pipeline(\"fill-mask\", model=phi_model, tokenizer=phi_tokenizer)\n",
    "\n",
    "\n",
    "# Evaluation pipeline\n",
    "NER_model = AutoModelForTokenClassification.from_pretrained(\"dbmdz/bert-large-cased-finetuned-conll03-english\")\n",
    "NER_tokenizer = AutoTokenizer.from_pretrained(\"bert-base-cased\")\n",
    "NER_pipe = pipeline('ner', model=NER_model, tokenizer=NER_tokenizer)"
   ]
  },
  {
   "cell_type": "markdown",
   "metadata": {},
   "source": [
    "## Data"
   ]
  },
  {
   "cell_type": "code",
   "execution_count": 8,
   "metadata": {},
   "outputs": [
    {
     "data": {
      "text/html": [
       "<div>\n",
       "<style scoped>\n",
       "    .dataframe tbody tr th:only-of-type {\n",
       "        vertical-align: middle;\n",
       "    }\n",
       "\n",
       "    .dataframe tbody tr th {\n",
       "        vertical-align: top;\n",
       "    }\n",
       "\n",
       "    .dataframe thead th {\n",
       "        text-align: right;\n",
       "    }\n",
       "</style>\n",
       "<table border=\"1\" class=\"dataframe\">\n",
       "  <thead>\n",
       "    <tr style=\"text-align: right;\">\n",
       "      <th></th>\n",
       "      <th>text</th>\n",
       "    </tr>\n",
       "  </thead>\n",
       "  <tbody>\n",
       "    <tr>\n",
       "      <th>0</th>\n",
       "      <td>I am in my 30 's , married and have recently ,...</td>\n",
       "    </tr>\n",
       "    <tr>\n",
       "      <th>1</th>\n",
       "      <td>It strikes me that I never posted the link to ...</td>\n",
       "    </tr>\n",
       "    <tr>\n",
       "      <th>2</th>\n",
       "      <td>Hye was waiting for her usual bus at the usual...</td>\n",
       "    </tr>\n",
       "    <tr>\n",
       "      <th>3</th>\n",
       "      <td>\" Remember , go straight to Grandma 's house ,...</td>\n",
       "    </tr>\n",
       "    <tr>\n",
       "      <th>4</th>\n",
       "      <td>Leave a reply Tisha Porter didn 't think she w...</td>\n",
       "    </tr>\n",
       "  </tbody>\n",
       "</table>\n",
       "</div>"
      ],
      "text/plain": [
       "                                                text\n",
       "0  I am in my 30 's , married and have recently ,...\n",
       "1  It strikes me that I never posted the link to ...\n",
       "2  Hye was waiting for her usual bus at the usual...\n",
       "3  \" Remember , go straight to Grandma 's house ,...\n",
       "4  Leave a reply Tisha Porter didn 't think she w..."
      ]
     },
     "execution_count": 8,
     "metadata": {},
     "output_type": "execute_result"
    }
   ],
   "source": [
    "# load data from json\n",
    "data = pd.read_json(\"data/data.json\")\n",
    "\n",
    "# drop columns\n",
    "data = data.drop(columns=[\"row_idx\", \"truncated_cells\"])\n",
    "\n",
    "#rename columns\n",
    "data = data.rename(columns={\"row\": \"text\"})\n",
    "\n",
    "# get only values from dicts in text column\n",
    "data[\"text\"] = data[\"text\"].apply(lambda x: x[\"text\"])\n",
    "\n",
    "data.head()"
   ]
  },
  {
   "cell_type": "code",
   "execution_count": 5,
   "metadata": {},
   "outputs": [
    {
     "data": {
      "text/html": [
       "<div>\n",
       "<style scoped>\n",
       "    .dataframe tbody tr th:only-of-type {\n",
       "        vertical-align: middle;\n",
       "    }\n",
       "\n",
       "    .dataframe tbody tr th {\n",
       "        vertical-align: top;\n",
       "    }\n",
       "\n",
       "    .dataframe thead th {\n",
       "        text-align: right;\n",
       "    }\n",
       "</style>\n",
       "<table border=\"1\" class=\"dataframe\">\n",
       "  <thead>\n",
       "    <tr style=\"text-align: right;\">\n",
       "      <th></th>\n",
       "      <th>text</th>\n",
       "      <th>prompt</th>\n",
       "    </tr>\n",
       "  </thead>\n",
       "  <tbody>\n",
       "    <tr>\n",
       "      <th>0</th>\n",
       "      <td>I am in my 30 's , married and have recently ,...</td>\n",
       "      <td>I am in my 30 's , married and have recently ,...</td>\n",
       "    </tr>\n",
       "    <tr>\n",
       "      <th>1</th>\n",
       "      <td>It strikes me that I never posted the link to ...</td>\n",
       "      <td>It strikes me that I never posted the link to ...</td>\n",
       "    </tr>\n",
       "    <tr>\n",
       "      <th>2</th>\n",
       "      <td>Hye was waiting for her usual bus at the usual...</td>\n",
       "      <td>Hye was waiting for her usual bus at the usual...</td>\n",
       "    </tr>\n",
       "    <tr>\n",
       "      <th>3</th>\n",
       "      <td>\" Remember , go straight to Grandma 's house ,...</td>\n",
       "      <td>\" Remember , go straight to Grandma 's house ,...</td>\n",
       "    </tr>\n",
       "    <tr>\n",
       "      <th>4</th>\n",
       "      <td>Leave a reply Tisha Porter didn 't think she w...</td>\n",
       "      <td>Leave a reply Tisha Porter didn 't think she w...</td>\n",
       "    </tr>\n",
       "  </tbody>\n",
       "</table>\n",
       "</div>"
      ],
      "text/plain": [
       "                                                text  \\\n",
       "0  I am in my 30 's , married and have recently ,...   \n",
       "1  It strikes me that I never posted the link to ...   \n",
       "2  Hye was waiting for her usual bus at the usual...   \n",
       "3  \" Remember , go straight to Grandma 's house ,...   \n",
       "4  Leave a reply Tisha Porter didn 't think she w...   \n",
       "\n",
       "                                              prompt  \n",
       "0  I am in my 30 's , married and have recently ,...  \n",
       "1  It strikes me that I never posted the link to ...  \n",
       "2  Hye was waiting for her usual bus at the usual...  \n",
       "3  \" Remember , go straight to Grandma 's house ,...  \n",
       "4  Leave a reply Tisha Porter didn 't think she w...  "
      ]
     },
     "execution_count": 5,
     "metadata": {},
     "output_type": "execute_result"
    }
   ],
   "source": [
    "# add pormpt column and contiunation_idx column\n",
    "data[\"prompt\"] = \"\"\n",
    "\n",
    "prompt_max_len = 512\n",
    "\n",
    "for i, row in data.iterrows():\n",
    "    prompt = generate_prompt(row[\"text\"], prompt_max_len)\n",
    "    data.at[i, \"prompt\"] = prompt\n",
    "\n",
    "data.head()\n"
   ]
  },
  {
   "cell_type": "markdown",
   "metadata": {},
   "source": [
    "##### I wont to work without generation\n"
   ]
  },
  {
   "cell_type": "code",
   "execution_count": 9,
   "metadata": {},
   "outputs": [
    {
     "data": {
      "text/html": [
       "<div>\n",
       "<style scoped>\n",
       "    .dataframe tbody tr th:only-of-type {\n",
       "        vertical-align: middle;\n",
       "    }\n",
       "\n",
       "    .dataframe tbody tr th {\n",
       "        vertical-align: top;\n",
       "    }\n",
       "\n",
       "    .dataframe thead th {\n",
       "        text-align: right;\n",
       "    }\n",
       "</style>\n",
       "<table border=\"1\" class=\"dataframe\">\n",
       "  <thead>\n",
       "    <tr style=\"text-align: right;\">\n",
       "      <th></th>\n",
       "      <th>text</th>\n",
       "      <th>prompt</th>\n",
       "      <th>continuation_idx</th>\n",
       "    </tr>\n",
       "  </thead>\n",
       "  <tbody>\n",
       "    <tr>\n",
       "      <th>0</th>\n",
       "      <td>I am in my 30 's , married and have recently ,...</td>\n",
       "      <td>I am in my 30 's , married and have recently ,...</td>\n",
       "      <td>440</td>\n",
       "    </tr>\n",
       "    <tr>\n",
       "      <th>1</th>\n",
       "      <td>It strikes me that I never posted the link to ...</td>\n",
       "      <td>It strikes me that I never posted the link to ...</td>\n",
       "      <td>486</td>\n",
       "    </tr>\n",
       "    <tr>\n",
       "      <th>2</th>\n",
       "      <td>Hye was waiting for her usual bus at the usual...</td>\n",
       "      <td>Hye was waiting for her usual bus at the usual...</td>\n",
       "      <td>503</td>\n",
       "    </tr>\n",
       "    <tr>\n",
       "      <th>3</th>\n",
       "      <td>\" Remember , go straight to Grandma 's house ,...</td>\n",
       "      <td>\" Remember , go straight to Grandma 's house ,...</td>\n",
       "      <td>471</td>\n",
       "    </tr>\n",
       "    <tr>\n",
       "      <th>4</th>\n",
       "      <td>Leave a reply Tisha Porter didn 't think she w...</td>\n",
       "      <td>Leave a reply Tisha Porter didn 't think she w...</td>\n",
       "      <td>468</td>\n",
       "    </tr>\n",
       "  </tbody>\n",
       "</table>\n",
       "</div>"
      ],
      "text/plain": [
       "                                                text  \\\n",
       "0  I am in my 30 's , married and have recently ,...   \n",
       "1  It strikes me that I never posted the link to ...   \n",
       "2  Hye was waiting for her usual bus at the usual...   \n",
       "3  \" Remember , go straight to Grandma 's house ,...   \n",
       "4  Leave a reply Tisha Porter didn 't think she w...   \n",
       "\n",
       "                                              prompt  continuation_idx  \n",
       "0  I am in my 30 's , married and have recently ,...               440  \n",
       "1  It strikes me that I never posted the link to ...               486  \n",
       "2  Hye was waiting for her usual bus at the usual...               503  \n",
       "3  \" Remember , go straight to Grandma 's house ,...               471  \n",
       "4  Leave a reply Tisha Porter didn 't think she w...               468  "
      ]
     },
     "execution_count": 9,
     "metadata": {},
     "output_type": "execute_result"
    }
   ],
   "source": [
    "# prepering the prompts for the model\n",
    "def prepare_prompt(text, prompt_max_len):\n",
    "    # truncate the text to the first \".\" before the prompt_max_length\n",
    "    truncated_text = text[:prompt_max_len]\n",
    "    # find last \".\" in the text\n",
    "    last_dot_idx = truncated_text.rfind(\".\")\n",
    "    # truncate the string to the last \".\"\n",
    "    output = truncated_text[:last_dot_idx+1]\n",
    "\n",
    "    return output, last_dot_idx + 2\n",
    "\n",
    "# add pormpt column and contiunation_idx column\n",
    "data[\"prompt\"] = \"\"\n",
    "data[\"continuation_idx\"] = 0\n",
    "\n",
    "prompt_max_len = 512\n",
    "\n",
    "for i, row in data.iterrows():\n",
    "    prompt, continuation_idx = prepare_prompt(row[\"text\"], prompt_max_len)\n",
    "    data.at[i, \"prompt\"] = prompt\n",
    "    data.at[i, \"continuation_idx\"] = continuation_idx\n",
    "\n",
    "data.head()"
   ]
  },
  {
   "cell_type": "code",
   "execution_count": 10,
   "metadata": {},
   "outputs": [
    {
     "data": {
      "text/html": [
       "<div>\n",
       "<style scoped>\n",
       "    .dataframe tbody tr th:only-of-type {\n",
       "        vertical-align: middle;\n",
       "    }\n",
       "\n",
       "    .dataframe tbody tr th {\n",
       "        vertical-align: top;\n",
       "    }\n",
       "\n",
       "    .dataframe thead th {\n",
       "        text-align: right;\n",
       "    }\n",
       "</style>\n",
       "<table border=\"1\" class=\"dataframe\">\n",
       "  <thead>\n",
       "    <tr style=\"text-align: right;\">\n",
       "      <th></th>\n",
       "      <th>text</th>\n",
       "      <th>prompt</th>\n",
       "      <th>continuation_idx</th>\n",
       "      <th>continuation</th>\n",
       "    </tr>\n",
       "  </thead>\n",
       "  <tbody>\n",
       "    <tr>\n",
       "      <th>0</th>\n",
       "      <td>I am in my 30 's , married and have recently ,...</td>\n",
       "      <td>I am in my 30 's , married and have recently ,...</td>\n",
       "      <td>440</td>\n",
       "      <td>I think back on the past year with mixed emoti...</td>\n",
       "    </tr>\n",
       "    <tr>\n",
       "      <th>1</th>\n",
       "      <td>It strikes me that I never posted the link to ...</td>\n",
       "      <td>It strikes me that I never posted the link to ...</td>\n",
       "      <td>486</td>\n",
       "      <td>We had a ton of fun ( and learned a lot ) maki...</td>\n",
       "    </tr>\n",
       "    <tr>\n",
       "      <th>2</th>\n",
       "      <td>Hye was waiting for her usual bus at the usual...</td>\n",
       "      <td>Hye was waiting for her usual bus at the usual...</td>\n",
       "      <td>503</td>\n",
       "      <td>It was very cold that night , but it didn 't b...</td>\n",
       "    </tr>\n",
       "    <tr>\n",
       "      <th>3</th>\n",
       "      <td>\" Remember , go straight to Grandma 's house ,...</td>\n",
       "      <td>\" Remember , go straight to Grandma 's house ,...</td>\n",
       "      <td>471</td>\n",
       "      <td>\" Who is it ? \" he called in a cackly voice . ...</td>\n",
       "    </tr>\n",
       "    <tr>\n",
       "      <th>4</th>\n",
       "      <td>Leave a reply Tisha Porter didn 't think she w...</td>\n",
       "      <td>Leave a reply Tisha Porter didn 't think she w...</td>\n",
       "      <td>468</td>\n",
       "      <td>She wasn 't counting on the stress being too m...</td>\n",
       "    </tr>\n",
       "  </tbody>\n",
       "</table>\n",
       "</div>"
      ],
      "text/plain": [
       "                                                text  \\\n",
       "0  I am in my 30 's , married and have recently ,...   \n",
       "1  It strikes me that I never posted the link to ...   \n",
       "2  Hye was waiting for her usual bus at the usual...   \n",
       "3  \" Remember , go straight to Grandma 's house ,...   \n",
       "4  Leave a reply Tisha Porter didn 't think she w...   \n",
       "\n",
       "                                              prompt  continuation_idx  \\\n",
       "0  I am in my 30 's , married and have recently ,...               440   \n",
       "1  It strikes me that I never posted the link to ...               486   \n",
       "2  Hye was waiting for her usual bus at the usual...               503   \n",
       "3  \" Remember , go straight to Grandma 's house ,...               471   \n",
       "4  Leave a reply Tisha Porter didn 't think she w...               468   \n",
       "\n",
       "                                        continuation  \n",
       "0  I think back on the past year with mixed emoti...  \n",
       "1  We had a ton of fun ( and learned a lot ) maki...  \n",
       "2  It was very cold that night , but it didn 't b...  \n",
       "3  \" Who is it ? \" he called in a cackly voice . ...  \n",
       "4  She wasn 't counting on the stress being too m...  "
      ]
     },
     "execution_count": 10,
     "metadata": {},
     "output_type": "execute_result"
    }
   ],
   "source": [
    "data[\"continuation\"] = \"\"\n",
    "\n",
    "for i, row in data.iterrows():\n",
    "    prompt, _ = prepare_prompt(row[\"text\"][row[\"continuation_idx\"]:], prompt_max_len)\n",
    "    data.at[i, \"continuation\"] = prompt\n",
    "\n",
    "data.head()"
   ]
  },
  {
   "cell_type": "markdown",
   "metadata": {},
   "source": [
    "## Generation"
   ]
  },
  {
   "cell_type": "code",
   "execution_count": 11,
   "metadata": {},
   "outputs": [
    {
     "data": {
      "text/plain": [
       "'Overtime wore on late that day , and by the time Douno left the office , it was past nine at night . An accident had happened along the route home , closing off an entire lane and bringing traffic to a standstill . Douno did not get to his apartment until past ten . The asphalt in the parking lot still carried a damp smell from the heat wave during the day .'"
      ]
     },
     "execution_count": 11,
     "metadata": {},
     "output_type": "execute_result"
    }
   ],
   "source": [
    "sample_row = data.iloc[7]\n",
    "text = sample_row[\"text\"]\n",
    "prompt = sample_row[\"prompt\"]\n",
    "prompt"
   ]
  },
  {
   "cell_type": "code",
   "execution_count": null,
   "metadata": {},
   "outputs": [],
   "source": [
    "chapter = sample_row[\"continuation\"]"
   ]
  },
  {
   "cell_type": "markdown",
   "metadata": {},
   "source": [
    "## Evaluation"
   ]
  },
  {
   "cell_type": "code",
   "execution_count": 13,
   "metadata": {},
   "outputs": [
    {
     "name": "stdout",
     "output_type": "stream",
     "text": [
      "30.0 1.0\n"
     ]
    }
   ],
   "source": [
    "evaluation = evaluate_text(prompt, chapter, NER_pipe)\n",
    "\n",
    "evaluation"
   ]
  }
 ],
 "metadata": {
  "kernelspec": {
   "display_name": "Python 3",
   "language": "python",
   "name": "python3"
  },
  "language_info": {
   "codemirror_mode": {
    "name": "ipython",
    "version": 3
   },
   "file_extension": ".py",
   "mimetype": "text/x-python",
   "name": "python",
   "nbconvert_exporter": "python",
   "pygments_lexer": "ipython3",
   "version": "3.9.7"
  }
 },
 "nbformat": 4,
 "nbformat_minor": 2
}
